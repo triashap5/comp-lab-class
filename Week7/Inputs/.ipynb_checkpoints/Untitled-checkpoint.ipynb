{
 "cells": [
  {
   "cell_type": "code",
   "execution_count": 1,
   "metadata": {},
   "outputs": [],
   "source": [
    "import numpy as np\n",
    "import mdtraj as md\n",
    "import matplotlib.pyplot as plt\n",
    "import json"
   ]
  },
  {
   "cell_type": "code",
   "execution_count": 2,
   "metadata": {},
   "outputs": [],
   "source": [
    "UBQ_crystal = md.load('./1UBQ.pdb')\n",
    "\n",
    "UBQ_alpha_rank1 = md.load('./1UBQ/relaxed_model_1_pred_0.pdb')\n",
    "UBQ_alpha_rank2 = md.load('./1UBQ/relaxed_model_2_pred_0.pdb')\n",
    "UBQ_alpha_rank3 = md.load('./1UBQ/relaxed_model_3_pred_0.pdb')\n",
    "UBQ_alpha_rank4 = md.load('./1UBQ/relaxed_model_4_pred_0.pdb')\n",
    "UBQ_alpha_rank5 = md.load('./1UBQ/relaxed_model_5_pred_0.pdb')\n",
    "\n",
    "UBQ_colab_rank1 = md.load('./colabfold_use_amber/test1UBQ_7686d_relaxed_rank_1_model_4.pdb')\n",
    "UBQ_colab_rank2 = md.load('./colabfold_use_amber/test1UBQ_7686d_relaxed_rank_2_model_3.pdb')\n",
    "UBQ_colab_rank3 = md.load('./colabfold_use_amber/test1UBQ_7686d_relaxed_rank_3_model_2.pdb')\n",
    "UBQ_colab_rank4 = md.load('./colabfold_use_amber/test1UBQ_7686d_relaxed_rank_4_model_1.pdb')\n",
    "UBQ_colab_rank5 = md.load('./colabfold_use_amber/test1UBQ_7686d_relaxed_rank_5_model_5.pdb')"
   ]
  },
  {
   "cell_type": "markdown",
   "metadata": {},
   "source": [
    "# RMSD calculation for backbone and sidechain atoms"
   ]
  },
  {
   "cell_type": "markdown",
   "metadata": {},
   "source": [
    "## 1. Alphafold"
   ]
  },
  {
   "cell_type": "code",
   "execution_count": 3,
   "metadata": {},
   "outputs": [],
   "source": [
    "rmsd_backbone_alpha = []"
   ]
  },
  {
   "cell_type": "code",
   "execution_count": 4,
   "metadata": {},
   "outputs": [],
   "source": [
    "crystal_bb = UBQ_crystal.topology.select(\"backbone or sidechain\")"
   ]
  },
  {
   "cell_type": "code",
   "execution_count": 5,
   "metadata": {},
   "outputs": [
    {
     "name": "stdout",
     "output_type": "stream",
     "text": [
      "602\n"
     ]
    }
   ],
   "source": [
    "print(len(crystal_bb))"
   ]
  },
  {
   "cell_type": "code",
   "execution_count": 6,
   "metadata": {},
   "outputs": [],
   "source": [
    "alpha_bb_1 = UBQ_alpha_rank1.topology.select(\"backbone or (sidechain and not type H)\")\n",
    "alpha_bb_2 = UBQ_alpha_rank2.topology.select(\"backbone or (sidechain and not type H)\")\n",
    "alpha_bb_3 = UBQ_alpha_rank3.topology.select(\"backbone or (sidechain and not type H)\")\n",
    "alpha_bb_4 = UBQ_alpha_rank4.topology.select(\"backbone or (sidechain and not type H)\")\n",
    "alpha_bb_5 = UBQ_alpha_rank5.topology.select(\"backbone or (sidechain and not type H)\")"
   ]
  },
  {
   "cell_type": "code",
   "execution_count": 7,
   "metadata": {},
   "outputs": [
    {
     "name": "stdout",
     "output_type": "stream",
     "text": [
      "602\n"
     ]
    }
   ],
   "source": [
    "print(len(alpha_bb_1))"
   ]
  },
  {
   "cell_type": "code",
   "execution_count": 8,
   "metadata": {},
   "outputs": [],
   "source": [
    "crystal_bb = UBQ_crystal.atom_slice(crystal_bb)"
   ]
  },
  {
   "cell_type": "code",
   "execution_count": 9,
   "metadata": {},
   "outputs": [],
   "source": [
    "alpha_bb_rank1 = UBQ_alpha_rank1.atom_slice(alpha_bb_1)\n",
    "alpha_bb_rank2 = UBQ_alpha_rank2.atom_slice(alpha_bb_2)\n",
    "alpha_bb_rank3 = UBQ_alpha_rank3.atom_slice(alpha_bb_3)\n",
    "alpha_bb_rank4 = UBQ_alpha_rank4.atom_slice(alpha_bb_4)\n",
    "alpha_bb_rank5 = UBQ_alpha_rank5.atom_slice(alpha_bb_5)"
   ]
  },
  {
   "cell_type": "code",
   "execution_count": null,
   "metadata": {},
   "outputs": [],
   "source": []
  },
  {
   "cell_type": "code",
   "execution_count": 10,
   "metadata": {},
   "outputs": [
    {
     "name": "stdout",
     "output_type": "stream",
     "text": [
      "[0.21160647]\n"
     ]
    }
   ],
   "source": [
    "traj_aligned_1= alpha_bb_rank1.superpose(crystal_bb,0)\n",
    "rmsd_alpha1_crystal = md.rmsd(traj_aligned_1, crystal_bb,0)\n",
    "print(rmsd_alpha1_crystal)\n",
    "rmsd_backbone_alpha.append(rmsd_alpha1_crystal)"
   ]
  },
  {
   "cell_type": "code",
   "execution_count": null,
   "metadata": {},
   "outputs": [],
   "source": []
  },
  {
   "cell_type": "code",
   "execution_count": 11,
   "metadata": {},
   "outputs": [
    {
     "name": "stdout",
     "output_type": "stream",
     "text": [
      "[0.2128238]\n"
     ]
    }
   ],
   "source": [
    "traj_aligned_2= alpha_bb_rank2.superpose(crystal_bb,0)\n",
    "rmsd_alpha2_crystal = md.rmsd(traj_aligned_2, crystal_bb,0)\n",
    "print(rmsd_alpha2_crystal)\n",
    "rmsd_backbone_alpha.append(rmsd_alpha2_crystal)"
   ]
  },
  {
   "cell_type": "code",
   "execution_count": null,
   "metadata": {},
   "outputs": [],
   "source": []
  },
  {
   "cell_type": "code",
   "execution_count": 12,
   "metadata": {},
   "outputs": [
    {
     "name": "stdout",
     "output_type": "stream",
     "text": [
      "[0.20580712]\n"
     ]
    }
   ],
   "source": [
    "traj_aligned_3= alpha_bb_rank3.superpose(crystal_bb,0)\n",
    "rmsd_alpha3_crystal = md.rmsd(traj_aligned_3, crystal_bb,0)\n",
    "print(rmsd_alpha3_crystal)\n",
    "rmsd_backbone_alpha.append(rmsd_alpha3_crystal)"
   ]
  },
  {
   "cell_type": "code",
   "execution_count": null,
   "metadata": {},
   "outputs": [],
   "source": []
  },
  {
   "cell_type": "code",
   "execution_count": 13,
   "metadata": {},
   "outputs": [
    {
     "name": "stdout",
     "output_type": "stream",
     "text": [
      "[0.2174162]\n"
     ]
    }
   ],
   "source": [
    "traj_aligned_4= alpha_bb_rank4.superpose(crystal_bb,0)\n",
    "rmsd_alpha4_crystal = md.rmsd(traj_aligned_4, crystal_bb,0)\n",
    "print(rmsd_alpha4_crystal)\n",
    "rmsd_backbone_alpha.append(rmsd_alpha4_crystal)"
   ]
  },
  {
   "cell_type": "code",
   "execution_count": null,
   "metadata": {},
   "outputs": [],
   "source": []
  },
  {
   "cell_type": "code",
   "execution_count": 14,
   "metadata": {},
   "outputs": [
    {
     "name": "stdout",
     "output_type": "stream",
     "text": [
      "[0.2145603]\n"
     ]
    }
   ],
   "source": [
    "traj_aligned_5= alpha_bb_rank5.superpose(crystal_bb,0)\n",
    "rmsd_alpha5_crystal = md.rmsd(traj_aligned_5, crystal_bb,0)\n",
    "print(rmsd_alpha5_crystal)\n",
    "rmsd_backbone_alpha.append(rmsd_alpha5_crystal)"
   ]
  },
  {
   "cell_type": "code",
   "execution_count": null,
   "metadata": {},
   "outputs": [],
   "source": []
  },
  {
   "cell_type": "code",
   "execution_count": 15,
   "metadata": {},
   "outputs": [
    {
     "name": "stdout",
     "output_type": "stream",
     "text": [
      "[array([0.21160647], dtype=float32), array([0.2128238], dtype=float32), array([0.20580712], dtype=float32), array([0.2174162], dtype=float32), array([0.2145603], dtype=float32)]\n"
     ]
    }
   ],
   "source": [
    "print(rmsd_backbone_alpha)"
   ]
  },
  {
   "cell_type": "code",
   "execution_count": 16,
   "metadata": {
    "scrolled": true
   },
   "outputs": [
    {
     "name": "stdout",
     "output_type": "stream",
     "text": [
      "[[0.21160647]\n",
      " [0.2128238 ]\n",
      " [0.20580712]\n",
      " [0.2174162 ]\n",
      " [0.2145603 ]]\n"
     ]
    }
   ],
   "source": [
    "rmsd_backbone_alpha = np.array(rmsd_backbone_alpha)\n",
    "print(rmsd_backbone_alpha)"
   ]
  },
  {
   "cell_type": "code",
   "execution_count": 17,
   "metadata": {},
   "outputs": [
    {
     "name": "stdout",
     "output_type": "stream",
     "text": [
      "<class 'numpy.ndarray'>\n",
      "(5, 1)\n"
     ]
    }
   ],
   "source": [
    "print(type(rmsd_backbone_alpha))\n",
    "print(rmsd_backbone_alpha.shape)"
   ]
  },
  {
   "cell_type": "code",
   "execution_count": null,
   "metadata": {},
   "outputs": [],
   "source": []
  },
  {
   "cell_type": "markdown",
   "metadata": {},
   "source": [
    "## 2. Colabfold"
   ]
  },
  {
   "cell_type": "code",
   "execution_count": 18,
   "metadata": {},
   "outputs": [],
   "source": [
    "rmsd_backbone_colab = []"
   ]
  },
  {
   "cell_type": "code",
   "execution_count": 19,
   "metadata": {},
   "outputs": [],
   "source": [
    "crystal_bb = UBQ_crystal.topology.select(\"backbone or sidechain\")"
   ]
  },
  {
   "cell_type": "code",
   "execution_count": 20,
   "metadata": {},
   "outputs": [
    {
     "name": "stdout",
     "output_type": "stream",
     "text": [
      "602\n"
     ]
    }
   ],
   "source": [
    "print(len(crystal_bb))"
   ]
  },
  {
   "cell_type": "code",
   "execution_count": 21,
   "metadata": {},
   "outputs": [],
   "source": [
    "colab_bb_1 = UBQ_colab_rank1.topology.select(\"backbone or (sidechain and not type H)\")\n",
    "colab_bb_2 = UBQ_colab_rank2.topology.select(\"backbone or (sidechain and not type H)\")\n",
    "colab_bb_3 = UBQ_colab_rank3.topology.select(\"backbone or (sidechain and not type H)\")\n",
    "colab_bb_4 = UBQ_colab_rank4.topology.select(\"backbone or (sidechain and not type H)\")\n",
    "colab_bb_5 = UBQ_colab_rank5.topology.select(\"backbone or (sidechain and not type H)\")"
   ]
  },
  {
   "cell_type": "code",
   "execution_count": 22,
   "metadata": {},
   "outputs": [
    {
     "name": "stdout",
     "output_type": "stream",
     "text": [
      "602\n"
     ]
    }
   ],
   "source": [
    "print(len(colab_bb_1))"
   ]
  },
  {
   "cell_type": "code",
   "execution_count": 23,
   "metadata": {},
   "outputs": [],
   "source": [
    "crystal_bb = UBQ_crystal.atom_slice(crystal_bb)"
   ]
  },
  {
   "cell_type": "code",
   "execution_count": 24,
   "metadata": {},
   "outputs": [],
   "source": [
    "colab_bb_rank1 = UBQ_colab_rank1.atom_slice(colab_bb_1)\n",
    "colab_bb_rank2 = UBQ_colab_rank2.atom_slice(colab_bb_2)\n",
    "colab_bb_rank3 = UBQ_colab_rank3.atom_slice(colab_bb_3)\n",
    "colab_bb_rank4 = UBQ_colab_rank4.atom_slice(colab_bb_4)\n",
    "colab_bb_rank5 = UBQ_colab_rank5.atom_slice(colab_bb_5)"
   ]
  },
  {
   "cell_type": "code",
   "execution_count": null,
   "metadata": {},
   "outputs": [],
   "source": []
  },
  {
   "cell_type": "code",
   "execution_count": 25,
   "metadata": {},
   "outputs": [
    {
     "name": "stdout",
     "output_type": "stream",
     "text": [
      "[0.21578069]\n"
     ]
    }
   ],
   "source": [
    "traj_aligned_1= colab_bb_rank1.superpose(crystal_bb,0)\n",
    "rmsd_colab1_crystal = md.rmsd(traj_aligned_1, crystal_bb,0)\n",
    "print(rmsd_colab1_crystal)\n",
    "rmsd_backbone_colab.append(rmsd_alpha1_crystal)"
   ]
  },
  {
   "cell_type": "code",
   "execution_count": null,
   "metadata": {},
   "outputs": [],
   "source": []
  },
  {
   "cell_type": "code",
   "execution_count": 26,
   "metadata": {},
   "outputs": [
    {
     "name": "stdout",
     "output_type": "stream",
     "text": [
      "[0.2117808]\n"
     ]
    }
   ],
   "source": [
    "traj_aligned_2= colab_bb_rank2.superpose(crystal_bb,0)\n",
    "rmsd_colab2_crystal = md.rmsd(traj_aligned_2, crystal_bb,0)\n",
    "print(rmsd_colab2_crystal)\n",
    "rmsd_backbone_colab.append(rmsd_colab2_crystal)"
   ]
  },
  {
   "cell_type": "code",
   "execution_count": null,
   "metadata": {},
   "outputs": [],
   "source": []
  },
  {
   "cell_type": "code",
   "execution_count": 27,
   "metadata": {},
   "outputs": [
    {
     "name": "stdout",
     "output_type": "stream",
     "text": [
      "[0.21480352]\n"
     ]
    }
   ],
   "source": [
    "traj_aligned_3= colab_bb_rank3.superpose(crystal_bb,0)\n",
    "rmsd_colab3_crystal = md.rmsd(traj_aligned_3, crystal_bb,0)\n",
    "print(rmsd_colab3_crystal)\n",
    "rmsd_backbone_colab.append(rmsd_colab3_crystal)"
   ]
  },
  {
   "cell_type": "code",
   "execution_count": null,
   "metadata": {},
   "outputs": [],
   "source": []
  },
  {
   "cell_type": "code",
   "execution_count": 28,
   "metadata": {},
   "outputs": [
    {
     "name": "stdout",
     "output_type": "stream",
     "text": [
      "[0.20926541]\n"
     ]
    }
   ],
   "source": [
    "traj_aligned_4= colab_bb_rank4.superpose(crystal_bb,0)\n",
    "rmsd_colab4_crystal = md.rmsd(traj_aligned_4, crystal_bb,0)\n",
    "print(rmsd_colab4_crystal)\n",
    "rmsd_backbone_colab.append(rmsd_colab4_crystal)"
   ]
  },
  {
   "cell_type": "code",
   "execution_count": null,
   "metadata": {},
   "outputs": [],
   "source": []
  },
  {
   "cell_type": "code",
   "execution_count": 29,
   "metadata": {},
   "outputs": [
    {
     "name": "stdout",
     "output_type": "stream",
     "text": [
      "[0.2097421]\n"
     ]
    }
   ],
   "source": [
    "traj_aligned_5= colab_bb_rank5.superpose(crystal_bb,0)\n",
    "rmsd_colab5_crystal = md.rmsd(traj_aligned_5, crystal_bb,0)\n",
    "print(rmsd_colab5_crystal)\n",
    "rmsd_backbone_colab.append(rmsd_colab5_crystal)"
   ]
  },
  {
   "cell_type": "code",
   "execution_count": null,
   "metadata": {},
   "outputs": [],
   "source": []
  },
  {
   "cell_type": "code",
   "execution_count": 30,
   "metadata": {},
   "outputs": [
    {
     "name": "stdout",
     "output_type": "stream",
     "text": [
      "[array([0.21160647], dtype=float32), array([0.2117808], dtype=float32), array([0.21480352], dtype=float32), array([0.20926541], dtype=float32), array([0.2097421], dtype=float32)]\n"
     ]
    }
   ],
   "source": [
    "print(rmsd_backbone_colab)"
   ]
  },
  {
   "cell_type": "code",
   "execution_count": null,
   "metadata": {},
   "outputs": [],
   "source": []
  },
  {
   "cell_type": "code",
   "execution_count": 31,
   "metadata": {},
   "outputs": [
    {
     "name": "stdout",
     "output_type": "stream",
     "text": [
      "[[0.21160647]\n",
      " [0.2117808 ]\n",
      " [0.21480352]\n",
      " [0.20926541]\n",
      " [0.2097421 ]]\n"
     ]
    }
   ],
   "source": [
    "rmsd_backbone_colab = np.array(rmsd_backbone_colab)\n",
    "print(rmsd_backbone_colab)"
   ]
  },
  {
   "cell_type": "code",
   "execution_count": null,
   "metadata": {},
   "outputs": [],
   "source": []
  },
  {
   "cell_type": "code",
   "execution_count": 32,
   "metadata": {},
   "outputs": [
    {
     "name": "stdout",
     "output_type": "stream",
     "text": [
      "<class 'numpy.ndarray'>\n",
      "(5, 1)\n"
     ]
    }
   ],
   "source": [
    "print(type(rmsd_backbone_colab))\n",
    "print(rmsd_backbone_colab.shape)"
   ]
  },
  {
   "cell_type": "markdown",
   "metadata": {},
   "source": [
    "# RMSD calculation for Alpha-carbon atoms"
   ]
  },
  {
   "cell_type": "markdown",
   "metadata": {},
   "source": [
    "## 1. Alphafold"
   ]
  },
  {
   "cell_type": "code",
   "execution_count": 33,
   "metadata": {},
   "outputs": [],
   "source": [
    "rmsd_calpha_alpha = []"
   ]
  },
  {
   "cell_type": "code",
   "execution_count": 34,
   "metadata": {},
   "outputs": [],
   "source": [
    "crystal_ca = UBQ_crystal.topology.select(\"name CA\")"
   ]
  },
  {
   "cell_type": "code",
   "execution_count": 35,
   "metadata": {},
   "outputs": [],
   "source": [
    "alpha_ca_1 = UBQ_alpha_rank1.topology.select(\"name CA\")\n",
    "alpha_ca_2 = UBQ_alpha_rank2.topology.select(\"name CA\")\n",
    "alpha_ca_3 = UBQ_alpha_rank3.topology.select(\"name CA\")\n",
    "alpha_ca_4 = UBQ_alpha_rank4.topology.select(\"name CA\")\n",
    "alpha_ca_5 = UBQ_alpha_rank5.topology.select(\"name CA\")"
   ]
  },
  {
   "cell_type": "code",
   "execution_count": 36,
   "metadata": {},
   "outputs": [],
   "source": [
    "crystal_ca = UBQ_crystal.atom_slice(crystal_ca)"
   ]
  },
  {
   "cell_type": "code",
   "execution_count": 37,
   "metadata": {},
   "outputs": [],
   "source": [
    "alpha_ca_rank1 = UBQ_alpha_rank1.atom_slice(alpha_ca_1)\n",
    "alpha_ca_rank2 = UBQ_alpha_rank2.atom_slice(alpha_ca_2)\n",
    "alpha_ca_rank3 = UBQ_alpha_rank3.atom_slice(alpha_ca_3)\n",
    "alpha_ca_rank4 = UBQ_alpha_rank4.atom_slice(alpha_ca_4)\n",
    "alpha_ca_rank5 = UBQ_alpha_rank5.atom_slice(alpha_ca_5)"
   ]
  },
  {
   "cell_type": "code",
   "execution_count": 38,
   "metadata": {},
   "outputs": [
    {
     "name": "stdout",
     "output_type": "stream",
     "text": [
      "[0.08174562]\n"
     ]
    }
   ],
   "source": [
    "traj_aligned_1= alpha_ca_rank1.superpose(crystal_ca,0)\n",
    "rmsd_alpha1_crystal = md.rmsd(traj_aligned_1, crystal_ca,0)\n",
    "print(rmsd_alpha1_crystal)\n",
    "rmsd_calpha_alpha.append(rmsd_alpha1_crystal)"
   ]
  },
  {
   "cell_type": "code",
   "execution_count": null,
   "metadata": {},
   "outputs": [],
   "source": []
  },
  {
   "cell_type": "code",
   "execution_count": 39,
   "metadata": {},
   "outputs": [
    {
     "name": "stdout",
     "output_type": "stream",
     "text": [
      "[0.08168051]\n"
     ]
    }
   ],
   "source": [
    "traj_aligned_2= alpha_ca_rank2.superpose(crystal_ca,0)\n",
    "rmsd_alpha2_crystal = md.rmsd(traj_aligned_2, crystal_ca,0)\n",
    "print(rmsd_alpha2_crystal)\n",
    "rmsd_calpha_alpha.append(rmsd_alpha2_crystal)"
   ]
  },
  {
   "cell_type": "code",
   "execution_count": null,
   "metadata": {},
   "outputs": [],
   "source": []
  },
  {
   "cell_type": "code",
   "execution_count": 40,
   "metadata": {},
   "outputs": [
    {
     "name": "stdout",
     "output_type": "stream",
     "text": [
      "[0.06960219]\n"
     ]
    }
   ],
   "source": [
    "traj_aligned_3= alpha_ca_rank3.superpose(crystal_ca,0)\n",
    "rmsd_alpha3_crystal = md.rmsd(traj_aligned_3, crystal_ca,0)\n",
    "print(rmsd_alpha3_crystal)\n",
    "rmsd_calpha_alpha.append(rmsd_alpha3_crystal)"
   ]
  },
  {
   "cell_type": "code",
   "execution_count": null,
   "metadata": {},
   "outputs": [],
   "source": []
  },
  {
   "cell_type": "code",
   "execution_count": 41,
   "metadata": {},
   "outputs": [
    {
     "name": "stdout",
     "output_type": "stream",
     "text": [
      "[0.08023842]\n"
     ]
    }
   ],
   "source": [
    "traj_aligned_4= alpha_ca_rank4.superpose(crystal_ca,0)\n",
    "rmsd_alpha4_crystal = md.rmsd(traj_aligned_4, crystal_ca,0)\n",
    "print(rmsd_alpha4_crystal)\n",
    "rmsd_calpha_alpha.append(rmsd_alpha4_crystal)"
   ]
  },
  {
   "cell_type": "code",
   "execution_count": null,
   "metadata": {},
   "outputs": [],
   "source": []
  },
  {
   "cell_type": "code",
   "execution_count": 42,
   "metadata": {},
   "outputs": [
    {
     "name": "stdout",
     "output_type": "stream",
     "text": [
      "[0.08162764]\n"
     ]
    }
   ],
   "source": [
    "traj_aligned_5= alpha_ca_rank5.superpose(crystal_ca,0)\n",
    "rmsd_alpha5_crystal = md.rmsd(traj_aligned_5, crystal_ca,0)\n",
    "print(rmsd_alpha5_crystal)\n",
    "rmsd_calpha_alpha.append(rmsd_alpha5_crystal)"
   ]
  },
  {
   "cell_type": "code",
   "execution_count": null,
   "metadata": {},
   "outputs": [],
   "source": []
  },
  {
   "cell_type": "code",
   "execution_count": 43,
   "metadata": {},
   "outputs": [
    {
     "name": "stdout",
     "output_type": "stream",
     "text": [
      "[[0.08174562]\n",
      " [0.08168051]\n",
      " [0.06960219]\n",
      " [0.08023842]\n",
      " [0.08162764]]\n"
     ]
    }
   ],
   "source": [
    "rmsd_calpha_alpha = np.array(rmsd_calpha_alpha)\n",
    "print(rmsd_calpha_alpha)"
   ]
  },
  {
   "cell_type": "code",
   "execution_count": null,
   "metadata": {},
   "outputs": [],
   "source": []
  },
  {
   "cell_type": "markdown",
   "metadata": {},
   "source": [
    "## 2. Colabfold"
   ]
  },
  {
   "cell_type": "code",
   "execution_count": 44,
   "metadata": {},
   "outputs": [],
   "source": [
    "rmsd_calpha_colab = []"
   ]
  },
  {
   "cell_type": "code",
   "execution_count": null,
   "metadata": {},
   "outputs": [],
   "source": []
  },
  {
   "cell_type": "code",
   "execution_count": 45,
   "metadata": {},
   "outputs": [],
   "source": [
    "crystal_ca = UBQ_crystal.topology.select(\"name CA\")"
   ]
  },
  {
   "cell_type": "code",
   "execution_count": null,
   "metadata": {},
   "outputs": [],
   "source": []
  },
  {
   "cell_type": "code",
   "execution_count": 46,
   "metadata": {},
   "outputs": [],
   "source": [
    "colab_ca_1 = UBQ_colab_rank1.topology.select(\"name CA\")\n",
    "colab_ca_2 = UBQ_colab_rank2.topology.select(\"name CA\")\n",
    "colab_ca_3 = UBQ_colab_rank3.topology.select(\"name CA\")\n",
    "colab_ca_4 = UBQ_colab_rank4.topology.select(\"name CA\")\n",
    "colab_ca_5 = UBQ_colab_rank5.topology.select(\"name CA\")"
   ]
  },
  {
   "cell_type": "code",
   "execution_count": null,
   "metadata": {},
   "outputs": [],
   "source": []
  },
  {
   "cell_type": "code",
   "execution_count": 47,
   "metadata": {},
   "outputs": [],
   "source": [
    "crystal_ca = UBQ_crystal.atom_slice(crystal_ca)"
   ]
  },
  {
   "cell_type": "code",
   "execution_count": null,
   "metadata": {},
   "outputs": [],
   "source": []
  },
  {
   "cell_type": "code",
   "execution_count": 48,
   "metadata": {},
   "outputs": [],
   "source": [
    "colab_ca_rank1 = UBQ_colab_rank1.atom_slice(colab_ca_1)\n",
    "colab_ca_rank2 = UBQ_colab_rank2.atom_slice(colab_ca_2)\n",
    "colab_ca_rank3 = UBQ_colab_rank3.atom_slice(colab_ca_3)\n",
    "colab_ca_rank4 = UBQ_colab_rank4.atom_slice(colab_ca_4)\n",
    "colab_ca_rank5 = UBQ_colab_rank5.atom_slice(colab_ca_5)"
   ]
  },
  {
   "cell_type": "code",
   "execution_count": null,
   "metadata": {},
   "outputs": [],
   "source": []
  },
  {
   "cell_type": "code",
   "execution_count": 49,
   "metadata": {},
   "outputs": [
    {
     "name": "stdout",
     "output_type": "stream",
     "text": [
      "[0.08388032]\n"
     ]
    }
   ],
   "source": [
    "traj_aligned_1= colab_ca_rank1.superpose(crystal_ca,0)\n",
    "rmsd_colab1_crystal = md.rmsd(traj_aligned_1, crystal_ca,0)\n",
    "print(rmsd_colab1_crystal)\n",
    "rmsd_calpha_colab.append(rmsd_colab1_crystal)"
   ]
  },
  {
   "cell_type": "code",
   "execution_count": null,
   "metadata": {},
   "outputs": [],
   "source": []
  },
  {
   "cell_type": "code",
   "execution_count": 50,
   "metadata": {},
   "outputs": [
    {
     "name": "stdout",
     "output_type": "stream",
     "text": [
      "[0.07865389]\n"
     ]
    }
   ],
   "source": [
    "traj_aligned_2= colab_ca_rank2.superpose(crystal_ca,0)\n",
    "rmsd_colab2_crystal = md.rmsd(traj_aligned_2, crystal_ca,0)\n",
    "print(rmsd_colab2_crystal)\n",
    "rmsd_calpha_colab.append(rmsd_colab2_crystal)"
   ]
  },
  {
   "cell_type": "code",
   "execution_count": null,
   "metadata": {},
   "outputs": [],
   "source": []
  },
  {
   "cell_type": "code",
   "execution_count": 51,
   "metadata": {},
   "outputs": [
    {
     "name": "stdout",
     "output_type": "stream",
     "text": [
      "[0.08956062]\n"
     ]
    }
   ],
   "source": [
    "traj_aligned_3= colab_ca_rank3.superpose(crystal_ca,0)\n",
    "rmsd_colab3_crystal = md.rmsd(traj_aligned_3, crystal_ca,0)\n",
    "print(rmsd_colab3_crystal)\n",
    "rmsd_calpha_colab.append(rmsd_colab3_crystal)"
   ]
  },
  {
   "cell_type": "code",
   "execution_count": null,
   "metadata": {},
   "outputs": [],
   "source": []
  },
  {
   "cell_type": "code",
   "execution_count": 52,
   "metadata": {},
   "outputs": [
    {
     "name": "stdout",
     "output_type": "stream",
     "text": [
      "[0.07849803]\n"
     ]
    }
   ],
   "source": [
    "traj_aligned_4= colab_ca_rank4.superpose(crystal_ca,0)\n",
    "rmsd_colab4_crystal = md.rmsd(traj_aligned_4, crystal_ca,0)\n",
    "print(rmsd_colab4_crystal)\n",
    "rmsd_calpha_colab.append(rmsd_colab4_crystal)"
   ]
  },
  {
   "cell_type": "code",
   "execution_count": null,
   "metadata": {},
   "outputs": [],
   "source": []
  },
  {
   "cell_type": "code",
   "execution_count": 53,
   "metadata": {},
   "outputs": [
    {
     "name": "stdout",
     "output_type": "stream",
     "text": [
      "[0.07452516]\n"
     ]
    }
   ],
   "source": [
    "traj_aligned_5= colab_ca_rank5.superpose(crystal_ca,0)\n",
    "rmsd_colab5_crystal = md.rmsd(traj_aligned_5, crystal_ca,0)\n",
    "print(rmsd_colab5_crystal)\n",
    "rmsd_calpha_colab.append(rmsd_colab5_crystal)"
   ]
  },
  {
   "cell_type": "code",
   "execution_count": null,
   "metadata": {},
   "outputs": [],
   "source": []
  },
  {
   "cell_type": "code",
   "execution_count": 54,
   "metadata": {},
   "outputs": [
    {
     "name": "stdout",
     "output_type": "stream",
     "text": [
      "[[0.08388032]\n",
      " [0.07865389]\n",
      " [0.08956062]\n",
      " [0.07849803]\n",
      " [0.07452516]]\n"
     ]
    }
   ],
   "source": [
    "rmsd_calpha_colab = np.array(rmsd_calpha_colab)\n",
    "print(rmsd_calpha_colab)"
   ]
  },
  {
   "cell_type": "code",
   "execution_count": null,
   "metadata": {},
   "outputs": [],
   "source": []
  },
  {
   "cell_type": "markdown",
   "metadata": {},
   "source": [
    "# RMSD plots"
   ]
  },
  {
   "cell_type": "code",
   "execution_count": 55,
   "metadata": {},
   "outputs": [
    {
     "name": "stdout",
     "output_type": "stream",
     "text": [
      "[[0.21160647]\n",
      " [0.2128238 ]\n",
      " [0.20580712]\n",
      " [0.2174162 ]\n",
      " [0.2145603 ]]\n"
     ]
    }
   ],
   "source": [
    "print(rmsd_backbone_alpha)"
   ]
  },
  {
   "cell_type": "code",
   "execution_count": 56,
   "metadata": {},
   "outputs": [
    {
     "name": "stdout",
     "output_type": "stream",
     "text": [
      "[[0.08174562]\n",
      " [0.08168051]\n",
      " [0.06960219]\n",
      " [0.08023842]\n",
      " [0.08162764]]\n"
     ]
    }
   ],
   "source": [
    "print(rmsd_calpha_alpha)"
   ]
  },
  {
   "cell_type": "code",
   "execution_count": null,
   "metadata": {},
   "outputs": [],
   "source": []
  },
  {
   "cell_type": "code",
   "execution_count": 57,
   "metadata": {},
   "outputs": [
    {
     "name": "stdout",
     "output_type": "stream",
     "text": [
      "[[0.21160647]\n",
      " [0.2117808 ]\n",
      " [0.21480352]\n",
      " [0.20926541]\n",
      " [0.2097421 ]]\n"
     ]
    }
   ],
   "source": [
    "print(rmsd_backbone_colab)"
   ]
  },
  {
   "cell_type": "code",
   "execution_count": 58,
   "metadata": {},
   "outputs": [
    {
     "name": "stdout",
     "output_type": "stream",
     "text": [
      "[[0.08388032]\n",
      " [0.07865389]\n",
      " [0.08956062]\n",
      " [0.07849803]\n",
      " [0.07452516]]\n"
     ]
    }
   ],
   "source": [
    "print(rmsd_calpha_colab)"
   ]
  },
  {
   "cell_type": "code",
   "execution_count": null,
   "metadata": {},
   "outputs": [],
   "source": []
  },
  {
   "cell_type": "code",
   "execution_count": 59,
   "metadata": {},
   "outputs": [],
   "source": [
    "labels_alpha = []\n",
    "labels_colab = []\n",
    "colors = []"
   ]
  },
  {
   "cell_type": "code",
   "execution_count": 60,
   "metadata": {},
   "outputs": [],
   "source": [
    "for i in range(5):\n",
    "    labels_alpha.append(f'alpha{i+1}')\n",
    "    labels_colab.append(f'colab{i+1}')"
   ]
  },
  {
   "cell_type": "code",
   "execution_count": null,
   "metadata": {},
   "outputs": [],
   "source": []
  },
  {
   "cell_type": "code",
   "execution_count": 61,
   "metadata": {},
   "outputs": [],
   "source": [
    "colors.append('b')\n",
    "colors.append('g')\n",
    "colors.append('r')\n",
    "colors.append('c')\n",
    "colors.append('m')\n",
    "colors.append('v')"
   ]
  },
  {
   "cell_type": "code",
   "execution_count": 62,
   "metadata": {},
   "outputs": [
    {
     "data": {
      "image/png": "[encoded data removed]",
      "text/plain": [
       "<Figure size 640x480 with 1 Axes>"
      ]
     },
     "metadata": {},
     "output_type": "display_data"
    }
   ],
   "source": [
    "for i in range(5):\n",
    "    plt.bar(labels_alpha[i], rmsd_calpha_alpha[i], width=0.8, color=colors[i], edgecolor='black', align = 'center', label=f'model_rank {i+1}')\n",
    "    plt.bar(labels_colab[i], rmsd_calpha_colab[i], width=0.8, color=colors[i], edgecolor='black', align = 'center')\n",
    "    plt.title('RMSD values of $C_{alpha}$ of Alphafold and Colabfold predicted structures \\n Model protein - Ubiquitin (PDB ID - 1UBQ)')\n",
    "    plt.xlabel('models')\n",
    "    plt.ylabel('RMSD values')\n",
    "    plt.legend(loc='center left', bbox_to_anchor=(1, 0.5))\n",
    "    \n",
    "plt.savefig('./../figures/RMSD-calpha.png')"
   ]
  },
  {
   "cell_type": "code",
   "execution_count": 63,
   "metadata": {},
   "outputs": [
    {
     "data": {
      "image/png": "[encoded data removed]",
      "text/plain": [
       "<Figure size 640x480 with 1 Axes>"
      ]
     },
     "metadata": {},
     "output_type": "display_data"
    }
   ],
   "source": [
    "for i in range(5):\n",
    "    plt.bar(labels_alpha[i], rmsd_backbone_alpha[i], width=0.8, color=colors[i], edgecolor='black', align = 'center', label=f'model_rank {i+1}' )\n",
    "    plt.bar(labels_colab[i], rmsd_backbone_colab[i], width=0.8, color=colors[i], edgecolor='black', align = 'center' )\n",
    "    plt.title('RMSD values of backbone atoms of Alphafold and Colabfold predicted structures \\n Model protein - Ubiquitin (PDB ID - 1UBQ)')\n",
    "    plt.xlabel('models')\n",
    "    plt.ylabel('RMSD values')\n",
    "    plt.legend(loc='center left', bbox_to_anchor=(1, 0.5))\n",
    "    \n",
    "plt.savefig('./../figures/RMSD-backbone.png')"
   ]
  },
  {
   "cell_type": "code",
   "execution_count": null,
   "metadata": {},
   "outputs": [],
   "source": []
  },
  {
   "cell_type": "markdown",
   "metadata": {},
   "source": [
    "## Loading json files from colabfold predicted structures"
   ]
  },
  {
   "cell_type": "code",
   "execution_count": 64,
   "metadata": {},
   "outputs": [],
   "source": [
    "json_path_Colab_1 = './colabfold_use_amber/test1UBQ_7686d_unrelaxed_rank_1_model_4_scores.json'\n",
    "json_path_Colab_2 = './colabfold_use_amber/test1UBQ_7686d_unrelaxed_rank_2_model_3_scores.json'\n",
    "json_path_Colab_3 = './colabfold_use_amber/test1UBQ_7686d_unrelaxed_rank_3_model_2_scores.json'\n",
    "json_path_Colab_4 = './colabfold_use_amber/test1UBQ_7686d_unrelaxed_rank_4_model_1_scores.json'\n",
    "json_path_Colab_5 = './colabfold_use_amber/test1UBQ_7686d_unrelaxed_rank_5_model_5_scores.json'"
   ]
  },
  {
   "cell_type": "code",
   "execution_count": 65,
   "metadata": {},
   "outputs": [],
   "source": [
    "json_Colab_1 = json.load(open(json_path_Colab_1))\n",
    "json_Colab_2 = json.load(open(json_path_Colab_2))\n",
    "json_Colab_3 = json.load(open(json_path_Colab_3))\n",
    "json_Colab_4 = json.load(open(json_path_Colab_4))\n",
    "json_Colab_5 = json.load(open(json_path_Colab_5))"
   ]
  },
  {
   "cell_type": "code",
   "execution_count": 66,
   "metadata": {},
   "outputs": [],
   "source": [
    "plddt_Colab_1 = np.mean(json_Colab_1['plddt'])\n",
    "plddt_Colab_2 = np.mean(json_Colab_2['plddt'])\n",
    "plddt_Colab_3 = np.mean(json_Colab_3['plddt'])\n",
    "plddt_Colab_4 = np.mean(json_Colab_4['plddt'])\n",
    "plddt_Colab_5 = np.mean(json_Colab_5['plddt'])"
   ]
  },
  {
   "cell_type": "code",
   "execution_count": 67,
   "metadata": {},
   "outputs": [
    {
     "name": "stdout",
     "output_type": "stream",
     "text": [
      "95.97644736842105\n"
     ]
    }
   ],
   "source": [
    "print(plddt_Colab_1)"
   ]
  },
  {
   "cell_type": "code",
   "execution_count": null,
   "metadata": {},
   "outputs": [],
   "source": []
  },
  {
   "cell_type": "code",
   "execution_count": 68,
   "metadata": {},
   "outputs": [],
   "source": [
    "rmsd_colabfold_all = []\n",
    "rmsd_colabfold_all.append(rmsd_backbone_colab)\n",
    "rmsd_colabfold_all.append(rmsd_calpha_colab)"
   ]
  },
  {
   "cell_type": "code",
   "execution_count": null,
   "metadata": {},
   "outputs": [],
   "source": []
  },
  {
   "cell_type": "code",
   "execution_count": 69,
   "metadata": {},
   "outputs": [],
   "source": [
    "plddt_colabfold = []\n",
    "plddt_colabfold.append(plddt_Colab_1)\n",
    "plddt_colabfold.append(plddt_Colab_2)\n",
    "plddt_colabfold.append(plddt_Colab_3)\n",
    "plddt_colabfold.append(plddt_Colab_4)\n",
    "plddt_colabfold.append(plddt_Colab_5)"
   ]
  },
  {
   "cell_type": "code",
   "execution_count": 70,
   "metadata": {},
   "outputs": [
    {
     "name": "stdout",
     "output_type": "stream",
     "text": [
      "[95.97644736842105, 95.3894736842105, 95.24381578947369, 95.1582894736842, 93.58]\n"
     ]
    }
   ],
   "source": [
    "print(plddt_colabfold)"
   ]
  },
  {
   "cell_type": "code",
   "execution_count": 71,
   "metadata": {},
   "outputs": [],
   "source": [
    "plddt_ranking_colab = [1, 2, 3, 4 ,5]"
   ]
  },
  {
   "cell_type": "markdown",
   "metadata": {},
   "source": [
    "## loading pickle files from alphafold predicted structures"
   ]
  },
  {
   "cell_type": "code",
   "execution_count": 72,
   "metadata": {},
   "outputs": [],
   "source": [
    "pkl_path_1 = './1UBQ/result_model_1_pred_0.pkl'\n",
    "pkl_path_2 = './1UBQ/result_model_2_pred_0.pkl'\n",
    "pkl_path_3 = './1UBQ/result_model_3_pred_0.pkl'\n",
    "pkl_path_4 = './1UBQ/result_model_4_pred_0.pkl'\n",
    "pkl_path_5 = './1UBQ/result_model_5_pred_0.pkl'"
   ]
  },
  {
   "cell_type": "code",
   "execution_count": 73,
   "metadata": {},
   "outputs": [],
   "source": [
    "pkl_alphafold_1 = np.load(pkl_path_1, allow_pickle=True)\n",
    "pkl_alphafold_2 = np.load(pkl_path_2, allow_pickle=True)\n",
    "pkl_alphafold_3 = np.load(pkl_path_3, allow_pickle=True)\n",
    "pkl_alphafold_4 = np.load(pkl_path_4, allow_pickle=True)\n",
    "pkl_alphafold_5 = np.load(pkl_path_5, allow_pickle=True)"
   ]
  },
  {
   "cell_type": "code",
   "execution_count": 74,
   "metadata": {},
   "outputs": [],
   "source": [
    "plddt_alphafold_1 = pkl_alphafold_1['ranking_confidence']\n",
    "plddt_alphafold_2 = pkl_alphafold_2['ranking_confidence']\n",
    "plddt_alphafold_3 = pkl_alphafold_3['ranking_confidence']\n",
    "plddt_alphafold_4 = pkl_alphafold_4['ranking_confidence']\n",
    "plddt_alphafold_5 = pkl_alphafold_5['ranking_confidence']"
   ]
  },
  {
   "cell_type": "code",
   "execution_count": 75,
   "metadata": {},
   "outputs": [
    {
     "name": "stdout",
     "output_type": "stream",
     "text": [
      "94.80585672720434\n",
      "94.99186526152437\n",
      "94.80585672720434\n"
     ]
    }
   ],
   "source": [
    "print(plddt_alphafold_1)\n",
    "print(plddt_alphafold_2)\n",
    "print(plddt_alphafold_1)"
   ]
  },
  {
   "cell_type": "code",
   "execution_count": 76,
   "metadata": {},
   "outputs": [],
   "source": [
    "plddt_alphafold = []\n",
    "plddt_alphafold.append(plddt_alphafold_1)\n",
    "plddt_alphafold.append(plddt_alphafold_2)\n",
    "plddt_alphafold.append(plddt_alphafold_3)\n",
    "plddt_alphafold.append(plddt_alphafold_4)\n",
    "plddt_alphafold.append(plddt_alphafold_5)"
   ]
  },
  {
   "cell_type": "code",
   "execution_count": 77,
   "metadata": {},
   "outputs": [
    {
     "name": "stdout",
     "output_type": "stream",
     "text": [
      "[94.80585672720434, 94.99186526152437, 94.57733210953414, 95.1538189754999, 94.4661140618518]\n"
     ]
    }
   ],
   "source": [
    "print(plddt_alphafold)"
   ]
  },
  {
   "cell_type": "code",
   "execution_count": 78,
   "metadata": {},
   "outputs": [],
   "source": [
    "plddt_ranking_alpha = [4,5,3,2,1]"
   ]
  },
  {
   "cell_type": "code",
   "execution_count": 79,
   "metadata": {},
   "outputs": [],
   "source": [
    "rmsd_alphafold_all = []\n",
    "rmsd_alphafold_all.append(rmsd_backbone_alpha)\n",
    "rmsd_alphafold_all.append(rmsd_calpha_alpha)"
   ]
  },
  {
   "cell_type": "markdown",
   "metadata": {},
   "source": [
    "# Scatter plots for plddt values against RMSD values"
   ]
  },
  {
   "cell_type": "markdown",
   "metadata": {},
   "source": [
    "## 1. Alphafold"
   ]
  },
  {
   "cell_type": "code",
   "execution_count": 80,
   "metadata": {},
   "outputs": [
    {
     "data": {
      "image/png": "[encoded data removed]",
      "text/plain": [
       "<Figure size 1500x500 with 2 Axes>"
      ]
     },
     "metadata": {},
     "output_type": "display_data"
    }
   ],
   "source": [
    "fig,axes = plt.subplots(1, 2, figsize=(15, 5))\n",
    "\n",
    "markers = ['o', 'v', 's', 'p', 'P', '*', 'h', 'H', 'X', 'D', 'd']\n",
    "\n",
    "segment_properties = ['backbone', 'calpha', 'sidechains']\n",
    "\n",
    "\n",
    "for i in range(2):\n",
    "    for j in range(5):\n",
    "        r=plddt_ranking_alpha[j]-1\n",
    "        #print(r)\n",
    "        axes[i].scatter(rmsd_alphafold_all[i][r], plddt_alphafold[r], color=colors[j], marker=markers[j],\n",
    "        label='ranking {}'.format(j+1)+', alphafold_model_{}'.format(r+1))\n",
    "        axes[i].set_xlabel('RMSD (nm)', fontsize=12)\n",
    "        axes[i].set_ylabel('pLDDT', fontsize=12)\n",
    "        axes[i].set_title('RMSD based on ' + segment_properties[i], fontsize=12)\n",
    "        \n",
    "        \n",
    "\n",
    "plt.legend(loc='center left', bbox_to_anchor=(1, 0.5))\n",
    "plt.suptitle('pLDDT vs RMSD values for Alphafold predictions for UBQ', fontsize=14,x=0.5,y=1)\n",
    "plt.savefig('./../figures/pLDDT_vs_RMSD_alpha.png')"
   ]
  },
  {
   "cell_type": "code",
   "execution_count": null,
   "metadata": {},
   "outputs": [],
   "source": []
  },
  {
   "cell_type": "code",
   "execution_count": null,
   "metadata": {},
   "outputs": [],
   "source": []
  },
  {
   "cell_type": "code",
   "execution_count": 81,
   "metadata": {},
   "outputs": [
    {
     "data": {
      "image/png": "[encoded data removed]",
      "text/plain": [
       "<Figure size 1500x500 with 2 Axes>"
      ]
     },
     "metadata": {},
     "output_type": "display_data"
    }
   ],
   "source": [
    "fig,axes = plt.subplots(1, 2, figsize=(15, 5))\n",
    "\n",
    "markers = ['o', 'v', 's', 'p', 'P', '*', 'h', 'H', 'X', 'D', 'd']\n",
    "\n",
    "segment_properties = ['backbone', 'calpha', 'sidechains']\n",
    "\n",
    "\n",
    "\n",
    "for i in range(2):\n",
    "    for j in range(5):\n",
    "        r=plddt_ranking_colab[j]-1\n",
    "        #print(r)\n",
    "        axes[i].scatter(rmsd_colabfold_all[i][r], plddt_colabfold[r], color=colors[j], marker=markers[j],\n",
    "        label='ranking {}'.format(j+1)+', colabfold_model_{}'.format(r+1))\n",
    "        axes[i].set_xlabel('RMSD (nm)', fontsize=12)\n",
    "        axes[i].set_ylabel('pLDDT', fontsize=12)\n",
    "        axes[i].set_title('RMSD based on ' + segment_properties[i], fontsize=12)\n",
    "        \n",
    "        \n",
    "\n",
    "plt.legend(loc='center left', bbox_to_anchor=(1, 0.5))\n",
    "plt.suptitle('pLDDT vs RMSD values for Colabfold predictions for UBQ', fontsize=14,x=0.5,y=1)\n",
    "plt.savefig('./../figures/pLDDT_vs_RMSD_colab.png')"
   ]
  },
  {
   "cell_type": "code",
   "execution_count": null,
   "metadata": {},
   "outputs": [],
   "source": []
  },
  {
   "cell_type": "markdown",
   "metadata": {},
   "source": [
    "# Observing which method gives best output on unrelaxed structure"
   ]
  },
  {
   "cell_type": "markdown",
   "metadata": {},
   "source": [
    "## Loading Rosettafold files"
   ]
  },
  {
   "cell_type": "code",
   "execution_count": 82,
   "metadata": {},
   "outputs": [],
   "source": [
    "UBQ_rose = md.load('./rosettafold_outputs/test_7686d/pred.pdb')"
   ]
  },
  {
   "cell_type": "code",
   "execution_count": 83,
   "metadata": {},
   "outputs": [],
   "source": [
    "rose_bb = UBQ_rose.topology.select(\"backbone or (sidechain and not type H)\")\n",
    "rose_bb_slice = UBQ_rose.atom_slice(rose_bb)"
   ]
  },
  {
   "cell_type": "code",
   "execution_count": 84,
   "metadata": {},
   "outputs": [],
   "source": [
    "rose_calpha = UBQ_rose.topology.select(\"name CA\")\n",
    "rose_calpha_slice = UBQ_rose.atom_slice(rose_calpha)"
   ]
  },
  {
   "cell_type": "code",
   "execution_count": 85,
   "metadata": {},
   "outputs": [],
   "source": [
    "rose_sdch = UBQ_rose.topology.select(\"(name != CA) and (name != O)\")\n",
    "rose_sdch_slice = UBQ_rose.atom_slice(rose_sdch)"
   ]
  },
  {
   "cell_type": "code",
   "execution_count": 86,
   "metadata": {},
   "outputs": [
    {
     "name": "stdout",
     "output_type": "stream",
     "text": [
      "[  0   2   4   6   8  10  12  14  16  18  20  22  24  26  28  30  32  34\n",
      "  36  38  40  42  44  46  48  50  52  54  56  58  60  62  64  66  68  70\n",
      "  72  74  76  78  80  82  84  86  88  90  92  94  96  98 100 102 104 106\n",
      " 108 110 112 114 116 118 120 122 124 126 128 130 132 134 136 138 140 142\n",
      " 144 146 148 150 152 154 156 158 160 162 164 166 168 170 172 174 176 178\n",
      " 180 182 184 186 188 190 192 194 196 198 200 202 204 206 208 210 212 214\n",
      " 216 218 220 222 224 226 228 230 232 234 236 238 240 242 244 246 248 250\n",
      " 252 254 256 258 260 262 264 266 268 270 272 274 276 278 280 282 284 286\n",
      " 288 290 292 294 296 298 300 302]\n"
     ]
    }
   ],
   "source": [
    "print(rose_sdch)"
   ]
  },
  {
   "cell_type": "code",
   "execution_count": null,
   "metadata": {},
   "outputs": [],
   "source": [
    "traj_align_bb_rose = rose_bb_slice.superpose(crystal_bb, 0)"
   ]
  },
  {
   "cell_type": "code",
   "execution_count": null,
   "metadata": {},
   "outputs": [],
   "source": [
    "traj_align_calpha_rose = rose_calpha_slice.superpose(crystal_ca,0)"
   ]
  },
  {
   "cell_type": "code",
   "execution_count": null,
   "metadata": {},
   "outputs": [],
   "source": []
  }
 ],
 "metadata": {
  "kernelspec": {
   "display_name": "lab_env",
   "language": "python",
   "name": "lab_env"
  },
  "language_info": {
   "codemirror_mode": {
    "name": "ipython",
    "version": 3
   },
   "file_extension": ".py",
   "mimetype": "text/x-python",
   "name": "python",
   "nbconvert_exporter": "python",
   "pygments_lexer": "ipython3",
   "version": "3.9.12"
  }
 },
 "nbformat": 4,
 "nbformat_minor": 4
}
